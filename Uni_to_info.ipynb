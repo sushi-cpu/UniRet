{
 "cells": [
  {
   "cell_type": "code",
   "execution_count": 3,
   "metadata": {},
   "outputs": [
    {
     "name": "stdout",
     "output_type": "stream",
     "text": [
      "All information saved to data/uniprot_full_info.csv\n"
     ]
    }
   ],
   "source": [
    "# From Uniprot ID retireval of the basic information\n",
    "import pandas as pd\n",
    "import requests\n",
    "import time\n",
    "\n",
    "# Input and output file paths\n",
    "input_file = \"data/uniprotids.xlsx\"  # Replace with your input file containing UniProt IDs\n",
    "output_file = \"data/uniprot_full_info.csv\"  # Replace with your desired output file path\n",
    "\n",
    "# Read the CSV file\n",
    "df = pd.read_excel(input_file)\n",
    "\n",
    "# Assuming the column containing UniProt IDs is named 'UniprotID'\n",
    "column_name = 'UniprotID'\n",
    "\n",
    "# Create a list to store results\n",
    "results = []\n",
    "\n",
    "# Iterate through each UniProt ID\n",
    "for uniprot_id in df[column_name]:\n",
    "    # Query the API\n",
    "    url = f\"https://rest.uniprot.org/uniprotkb/{uniprot_id}.json\"\n",
    "    try:\n",
    "        response = requests.get(url)\n",
    "        response.raise_for_status()  # Raise exception for HTTP errors\n",
    "        data = response.json()\n",
    "\n",
    "        # Flatten the data by keeping key fields (customize as needed)\n",
    "        result = {\"UniprotID\": uniprot_id}\n",
    "        result[\"Protein Name\"] = data.get(\"proteinDescription\", {}).get(\"recommendedName\", {}).get(\"fullName\", {}).get(\"value\", \"\")\n",
    "        result[\"Gene Name\"] = data.get(\"genes\", [{}])[0].get(\"geneName\", {}).get(\"value\", \"\")\n",
    "        result[\"Organism\"] = data.get(\"organism\", {}).get(\"scientificName\", \"\")\n",
    "        result[\"Length\"] = data.get(\"sequence\", {}).get(\"length\", \"\")\n",
    "        result[\"Sequence\"] = data.get(\"sequence\", {}).get(\"value\", \"\")\n",
    "        result[\"Function\"] = \"; \".join([comment.get(\"text\", [{}])[0].get(\"value\", \"\") for comment in data.get(\"comments\", []) if comment.get(\"type\") == \"function\"])\n",
    "\n",
    "        results.append(result)\n",
    "    except Exception as e:\n",
    "        print(f\"Error processing UniProt ID {uniprot_id}: {e}\")\n",
    "        results.append({\"UniprotID\": uniprot_id, \"Error\": str(e)})\n",
    "\n",
    "    # Pause to avoid overloading the server\n",
    "    time.sleep(0.1)\n",
    "\n",
    "# Convert the list of results into a DataFrame\n",
    "output_df = pd.DataFrame(results)\n",
    "\n",
    "# Save the results to a new CSV file\n",
    "output_df.to_csv(output_file, index=False)\n",
    "\n",
    "print(f\"All information saved to {output_file}\")"
   ]
  },
  {
   "cell_type": "code",
   "execution_count": null,
   "metadata": {},
   "outputs": [],
   "source": []
  }
 ],
 "metadata": {
  "kernelspec": {
   "display_name": "Python 3",
   "language": "python",
   "name": "python3"
  },
  "language_info": {
   "codemirror_mode": {
    "name": "ipython",
    "version": 3
   },
   "file_extension": ".py",
   "mimetype": "text/x-python",
   "name": "python",
   "nbconvert_exporter": "python",
   "pygments_lexer": "ipython3",
   "version": "3.10.16"
  }
 },
 "nbformat": 4,
 "nbformat_minor": 2
}
