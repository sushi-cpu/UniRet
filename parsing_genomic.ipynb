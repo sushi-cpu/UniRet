{
 "cells": [
  {
   "cell_type": "code",
   "execution_count": 1,
   "metadata": {},
   "outputs": [
    {
     "name": "stdout",
     "output_type": "stream",
     "text": [
      "Processed and saved: data/Pr/P10721_variations.csv\n"
     ]
    }
   ],
   "source": [
    "# Parsing genomicLocation for predictsnp\n",
    "import os\n",
    "import pandas as pd\n",
    "import re\n",
    "\n",
    "# Input and output folder paths\n",
    "input_folder = \"data/Variations\"  # Replace with your folder containing input CSV files\n",
    "output_folder = \"data/Pr\"  # Replace with your desired output folder\n",
    "\n",
    "# Ensure the output folder exists\n",
    "os.makedirs(output_folder, exist_ok=True)\n",
    "\n",
    "# Function to parse a single genomicLocation\n",
    "def parse_genomic_location(location):\n",
    "    if not isinstance(location, str):  # Ensure the location is a string\n",
    "        return None\n",
    "    \n",
    "    # Match the format like NC_000007.14:g.55019281C>T\n",
    "    match = re.match(r\"NC_(\\d+)\\.\\d+:g\\.(\\d+)([ACGT])>([ACGT])\", location)\n",
    "    if match:\n",
    "        chromosome, position, ref_base, alt_base = match.groups()\n",
    "        return f\"{int(chromosome)},{position},{ref_base},{alt_base}\"\n",
    "\n",
    "    # Match the format for deletions, e.g., NC_000007.14:g.55019311_55019331del\n",
    "    match_del = re.match(r\"NC_(\\d+)\\.\\d+:g\\.(\\d+)_([\\d]+)del\", location)\n",
    "    if match_del:\n",
    "        chromosome, start_position, end_position = match_del.groups()\n",
    "        return f\"{int(chromosome)},{start_position}-{end_position},del\"\n",
    "    \n",
    "    return None\n",
    "\n",
    "# Function to handle cases with multiple values or empty lists\n",
    "def process_genomic_location(cell):\n",
    "    if isinstance(cell, str) and cell.startswith('[') and cell.endswith(']'):\n",
    "        # Remove square brackets and split by commas\n",
    "        cell = cell[1:-1]\n",
    "        locations = [loc.strip().strip(\"'\") for loc in cell.split(',')]\n",
    "        parsed_locations = [parse_genomic_location(loc) for loc in locations]\n",
    "        return ','.join([loc for loc in parsed_locations if loc])  # Join valid parsed locations\n",
    "    else:\n",
    "        return parse_genomic_location(cell)\n",
    "\n",
    "# Process each CSV file in the input folder\n",
    "for file_name in os.listdir(input_folder):\n",
    "    if file_name.endswith(\".csv\"):\n",
    "        input_path = os.path.join(input_folder, file_name)\n",
    "        output_path = os.path.join(output_folder, file_name)\n",
    "\n",
    "        # Read the input CSV\n",
    "        df = pd.read_csv(input_path)\n",
    "\n",
    "        if \"genomicLocation\" in df.columns:\n",
    "            # Apply the function to process genomicLocation column\n",
    "            df[\"genomicLocation\"] = df[\"genomicLocation\"].apply(process_genomic_location)\n",
    "\n",
    "            # Save the updated DataFrame to the output folder\n",
    "            df.to_csv(output_path, index=False)\n",
    "            print(f\"Processed and saved: {output_path}\")\n",
    "        else:\n",
    "            print(f\"Skipping {file_name}: 'genomicLocation' column not found.\")"
   ]
  },
  {
   "cell_type": "code",
   "execution_count": null,
   "metadata": {},
   "outputs": [],
   "source": []
  }
 ],
 "metadata": {
  "kernelspec": {
   "display_name": "Python 3",
   "language": "python",
   "name": "python3"
  },
  "language_info": {
   "codemirror_mode": {
    "name": "ipython",
    "version": 3
   },
   "file_extension": ".py",
   "mimetype": "text/x-python",
   "name": "python",
   "nbconvert_exporter": "python",
   "pygments_lexer": "ipython3",
   "version": "3.10.16"
  }
 },
 "nbformat": 4,
 "nbformat_minor": 2
}
